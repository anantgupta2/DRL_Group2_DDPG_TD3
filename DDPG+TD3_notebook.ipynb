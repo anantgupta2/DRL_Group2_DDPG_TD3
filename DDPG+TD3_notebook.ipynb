{
 "cells": [
  {
   "cell_type": "markdown",
   "metadata": {},
   "source": [
    "# Deep Deterministic Policy Gradient (DDPG) and Twin Delayed DDPG (TD3)\n",
    "\n",
    "## Overview\n",
    "\n",
    "This notebook implements and compares two state-of-the-art actor-critic algorithms for continuous control:\n",
    "\n",
    "### DDPG (Deep Deterministic Policy Gradient)\n",
    "- **Paper**: [Continuous control with deep reinforcement learning](https://arxiv.org/abs/1509.02971) (Lillicrap et al., 2015)\n",
    "- Adapts DQN to continuous action spaces using actor-critic framework\n",
    "- Uses deterministic policy gradient theorem\n",
    "- Employs experience replay and target networks for stability\n",
    "\n",
    "### TD3 (Twin Delayed Deep Deterministic Policy Gradient)\n",
    "- **Paper**: [Addressing Function Approximation Error in Actor-Critic Methods](https://arxiv.org/abs/1802.09477) (Fujimoto et al., 2018)\n",
    "- Addresses overestimation bias and instability in DDPG\n",
    "- **Three key improvements over DDPG**:\n",
    "  1. **Clipped Double Q-Learning**: Uses two critic networks and takes minimum to reduce overestimation\n",
    "  2. **Delayed Policy Updates**: Updates policy less frequently than critics to reduce variance\n",
    "  3. **Target Policy Smoothing**: Adds noise to target actions for robustness\n",
    "\n",
    "### Environment\n",
    "- **Reacher-v5**: Fastest training environment (~51 minutes per 1M timesteps)\n",
    "- Modified timesteps for faster experimentation and convergence analysis\n",
    "\n",
    "---\n",
    "\n",
    "**Note**: This notebook is completely self-contained and can run independently without external file dependencies."
   ]
  },
  {
   "cell_type": "markdown",
   "metadata": {},
   "source": [
    "## Mathematical Background\n",
    "\n",
    "### Actor-Critic Framework\n",
    "\n",
    "Both DDPG and TD3 use the actor-critic paradigm:\n",
    "- **Actor** $\\pi_\\phi(s)$: A deterministic policy that maps states to actions\n",
    "- **Critic** $Q_\\theta(s, a)$: A Q-function that estimates the expected return\n",
    "\n",
    "### Bellman Equation\n",
    "\n",
    "The Q-function satisfies the Bellman equation:\n",
    "\n",
    "$$Q^\\pi(s, a) = \\mathbb{E}_{s' \\sim p}[r(s, a) + \\gamma Q^\\pi(s', \\pi(s'))]$$\n",
    "\n",
    "where:\n",
    "- $r(s, a)$ is the reward function\n",
    "- $\\gamma$ is the discount factor (typically 0.99)\n",
    "- $p(s'|s, a)$ is the state transition probability\n",
    "\n",
    "### DDPG Update Rules\n",
    "\n",
    "**Critic Update**: Minimize the mean squared Bellman error:\n",
    "\n",
    "$$L(\\theta) = \\mathbb{E}_{(s,a,r,s') \\sim \\mathcal{D}}[(Q_\\theta(s, a) - y)^2]$$\n",
    "\n",
    "where $y = r + \\gamma Q_{\\theta'}(s', \\pi_{\\phi'}(s'))$ and $\\theta'$, $\\phi'$ are target network parameters.\n",
    "\n",
    "**Actor Update**: Maximize expected Q-value:\n",
    "\n",
    "$$\\nabla_\\phi J(\\phi) = \\mathbb{E}_{s \\sim \\mathcal{D}}[\\nabla_a Q_\\theta(s, a)|_{a=\\pi_\\phi(s)} \\nabla_\\phi \\pi_\\phi(s)]$$\n",
    "\n",
    "### TD3 Update Rules\n",
    "\n",
    "**Clipped Double Q-Learning**: TD3 uses **two** critic networks $Q_{\\theta_1}$ and $Q_{\\theta_2}$:\n",
    "\n",
    "$$y = r + \\gamma \\min_{i=1,2} Q_{\\theta_i'}(s', \\tilde{a}')$$\n",
    "\n",
    "where $\\tilde{a}' = \\pi_{\\phi'}(s') + \\epsilon$ with $\\epsilon \\sim \\text{clip}(\\mathcal{N}(0, \\sigma), -c, c)$ (target policy smoothing)\n",
    "\n",
    "**Critic Loss** (for both Q-networks):\n",
    "\n",
    "$$L(\\theta_i) = \\mathbb{E}_{(s,a,r,s') \\sim \\mathcal{D}}[(Q_{\\theta_i}(s, a) - y)^2]$$\n",
    "\n",
    "**Delayed Actor Update**: Updated every $d$ steps (typically $d=2$):\n",
    "\n",
    "$$\\nabla_\\phi J(\\phi) = \\mathbb{E}_{s \\sim \\mathcal{D}}[\\nabla_a Q_{\\theta_1}(s, a)|_{a=\\pi_\\phi(s)} \\nabla_\\phi \\pi_\\phi(s)]$$\n",
    "\n",
    "### Target Network Updates (Both Algorithms)\n",
    "\n",
    "Target networks use soft (Polyak) updates:\n",
    "\n",
    "$$\\theta' \\leftarrow \\tau \\theta + (1 - \\tau) \\theta'$$\n",
    "$$\\phi' \\leftarrow \\tau \\phi + (1 - \\tau) \\phi'$$\n",
    "\n",
    "where $\\tau \\ll 1$ (typically 0.005)"
   ]
  },
  {
   "cell_type": "markdown",
   "metadata": {},
   "source": [
    "## Implementation"
   ]
  },
  {
   "cell_type": "markdown",
   "metadata": {},
   "source": [
    "### Import Dependencies"
   ]
  },
  {
   "cell_type": "code",
   "execution_count": 32,
   "metadata": {},
   "outputs": [
    {
     "name": "stdout",
     "output_type": "stream",
     "text": [
      "Using device: cuda\n",
      "PyTorch version: 2.9.0+cu128\n"
     ]
    }
   ],
   "source": [
    "import copy\n",
    "import numpy as np\n",
    "import torch\n",
    "import torch.nn as nn\n",
    "import torch.nn.functional as F\n",
    "import gymnasium as gym\n",
    "from tqdm import tqdm\n",
    "import matplotlib.pyplot as plt\n",
    "import os\n",
    "import time\n",
    "\n",
    "device = torch.device(\"cuda\" if torch.cuda.is_available() else \"cpu\")\n",
    "print(f\"Using device: {device}\")\n",
    "print(f\"PyTorch version: {torch.__version__}\")"
   ]
  },
  {
   "cell_type": "markdown",
   "metadata": {},
   "source": [
    "### Replay Buffer\n",
    "\n",
    "The replay buffer stores past experiences $(s, a, s', r, d)$ and allows random sampling for breaking temporal correlations in the data. This is crucial for off-policy learning stability."
   ]
  },
  {
   "cell_type": "code",
   "execution_count": 33,
   "metadata": {},
   "outputs": [
    {
     "name": "stdout",
     "output_type": "stream",
     "text": [
      "ReplayBuffer class defined\n"
     ]
    }
   ],
   "source": [
    "class ReplayBuffer(object):\n",
    "    \"\"\"Experience replay buffer for off-policy learning.\"\"\"\n",
    "    \n",
    "    def __init__(self, state_dim, action_dim, max_size=int(1e6)):\n",
    "        self.max_size = max_size\n",
    "        self.ptr = 0\n",
    "        self.size = 0\n",
    "\n",
    "        self.state = np.zeros((max_size, state_dim))\n",
    "        self.action = np.zeros((max_size, action_dim))\n",
    "        self.next_state = np.zeros((max_size, state_dim))\n",
    "        self.reward = np.zeros((max_size, 1))\n",
    "        self.not_done = np.zeros((max_size, 1))\n",
    "\n",
    "        self.device = torch.device(\"cuda\" if torch.cuda.is_available() else \"cpu\")\n",
    "\n",
    "    def add(self, state, action, next_state, reward, done):\n",
    "        \"\"\"Add a transition to the buffer.\"\"\"\n",
    "        self.state[self.ptr] = state\n",
    "        self.action[self.ptr] = action\n",
    "        self.next_state[self.ptr] = next_state\n",
    "        self.reward[self.ptr] = reward\n",
    "        self.not_done[self.ptr] = 1. - done\n",
    "\n",
    "        self.ptr = (self.ptr + 1) % self.max_size\n",
    "        self.size = min(self.size + 1, self.max_size)\n",
    "\n",
    "    def sample(self, batch_size):\n",
    "        \"\"\"Sample a batch of transitions.\"\"\"\n",
    "        ind = np.random.randint(0, self.size, size=batch_size)\n",
    "\n",
    "        return (\n",
    "            torch.FloatTensor(self.state[ind]).to(self.device),\n",
    "            torch.FloatTensor(self.action[ind]).to(self.device),\n",
    "            torch.FloatTensor(self.next_state[ind]).to(self.device),\n",
    "            torch.FloatTensor(self.reward[ind]).to(self.device),\n",
    "            torch.FloatTensor(self.not_done[ind]).to(self.device)\n",
    "        )\n",
    "\n",
    "print(\"ReplayBuffer class defined\")"
   ]
  },
  {
   "cell_type": "markdown",
   "metadata": {},
   "source": [
    "### Actor Networks\n",
    "\n",
    "We define two actor architectures matching the source files:\n",
    "\n",
    "1. **ActorDDPG** (from DDPG.py): 400-300 architecture\n",
    "2. **ActorTD3** (from TD3.py): 256-256 architecture\n",
    "\n",
    "Both use ReLU activations and tanh output scaled by `max_action`.\n",
    "\n",
    "**DDPG Architecture**: $s \\xrightarrow{400} \\text{ReLU} \\xrightarrow{300} \\text{ReLU} \\xrightarrow{|A|} \\tanh \\cdot a_{\\text{max}}$\n",
    "\n",
    "**TD3 Architecture**: $s \\xrightarrow{256} \\text{ReLU} \\xrightarrow{256} \\text{ReLU} \\xrightarrow{|A|} \\tanh \\cdot a_{\\text{max}}$"
   ]
  },
  {
   "cell_type": "code",
   "execution_count": 34,
   "metadata": {},
   "outputs": [
    {
     "name": "stdout",
     "output_type": "stream",
     "text": [
      "Actor network classes defined\n"
     ]
    }
   ],
   "source": [
    "class ActorDDPG(nn.Module):\n",
    "    \"\"\"Actor network for DDPG (from DDPG.py - 400-300 architecture).\"\"\"\n",
    "    \n",
    "    def __init__(self, state_dim, action_dim, max_action):\n",
    "        super(ActorDDPG, self).__init__()\n",
    "\n",
    "        self.l1 = nn.Linear(state_dim, 400)\n",
    "        self.l2 = nn.Linear(400, 300)\n",
    "        self.l3 = nn.Linear(300, action_dim)\n",
    "        \n",
    "        self.max_action = max_action\n",
    "\n",
    "    def forward(self, state):\n",
    "        a = F.relu(self.l1(state))\n",
    "        a = F.relu(self.l2(a))\n",
    "        return self.max_action * torch.tanh(self.l3(a))\n",
    "\n",
    "\n",
    "class ActorTD3(nn.Module):\n",
    "    \"\"\"Actor network for TD3 (from TD3.py - 256-256 architecture).\"\"\"\n",
    "    \n",
    "    def __init__(self, state_dim, action_dim, max_action):\n",
    "        super(ActorTD3, self).__init__()\n",
    "\n",
    "        self.l1 = nn.Linear(state_dim, 256)\n",
    "        self.l2 = nn.Linear(256, 256)\n",
    "        self.l3 = nn.Linear(256, action_dim)\n",
    "        \n",
    "        self.max_action = max_action\n",
    "\n",
    "    def forward(self, state):\n",
    "        a = F.relu(self.l1(state))\n",
    "        a = F.relu(self.l2(a))\n",
    "        return self.max_action * torch.tanh(self.l3(a))\n",
    "\n",
    "print(\"Actor network classes defined\")"
   ]
  },
  {
   "cell_type": "markdown",
   "metadata": {},
   "source": [
    "### Critic Networks\n",
    "\n",
    "We define two critic architectures matching the source files:\n",
    "\n",
    "1. **CriticDDPG** (from DDPG.py): Processes state through first layer (400), then concatenates with action\n",
    "2. **CriticTD3** (from TD3.py): Twin critics that concatenate state-action pairs immediately\n",
    "\n",
    "**DDPG Critic Architecture**:\n",
    "- $s \\xrightarrow{400} \\text{ReLU}$\n",
    "- $[q, a] \\xrightarrow{300} \\text{ReLU} \\xrightarrow{1} Q(s,a)$\n",
    "\n",
    "**TD3 Critic Architecture** (x2 for twin critics):\n",
    "- $[s, a] \\xrightarrow{256} \\text{ReLU} \\xrightarrow{256} \\text{ReLU} \\xrightarrow{1} Q(s,a)$"
   ]
  },
  {
   "cell_type": "code",
   "execution_count": 35,
   "metadata": {},
   "outputs": [
    {
     "name": "stdout",
     "output_type": "stream",
     "text": [
      "Critic network classes defined\n"
     ]
    }
   ],
   "source": [
    "class CriticDDPG(nn.Module):\n",
    "    \"\"\"Critic network for DDPG (from DDPG.py).\"\"\"\n",
    "    \n",
    "    def __init__(self, state_dim, action_dim):\n",
    "        super(CriticDDPG, self).__init__()\n",
    "\n",
    "        # DDPG architecture: state first, then concat with action\n",
    "        self.l1 = nn.Linear(state_dim, 400)\n",
    "        self.l2 = nn.Linear(400 + action_dim, 300)\n",
    "        self.l3 = nn.Linear(300, 1)\n",
    "\n",
    "    def forward(self, state, action):\n",
    "        # Process state first, then concatenate with action\n",
    "        q = F.relu(self.l1(state))\n",
    "        q = F.relu(self.l2(torch.cat([q, action], 1)))\n",
    "        return self.l3(q)\n",
    "\n",
    "\n",
    "class CriticTD3(nn.Module):\n",
    "    \"\"\"Twin critic networks for TD3 (from TD3.py).\"\"\"\n",
    "    \n",
    "    def __init__(self, state_dim, action_dim):\n",
    "        super(CriticTD3, self).__init__()\n",
    "\n",
    "        # Q1 architecture\n",
    "        self.l1 = nn.Linear(state_dim + action_dim, 256)\n",
    "        self.l2 = nn.Linear(256, 256)\n",
    "        self.l3 = nn.Linear(256, 1)\n",
    "\n",
    "        # Q2 architecture\n",
    "        self.l4 = nn.Linear(state_dim + action_dim, 256)\n",
    "        self.l5 = nn.Linear(256, 256)\n",
    "        self.l6 = nn.Linear(256, 1)\n",
    "\n",
    "    def forward(self, state, action):\n",
    "        \"\"\"Forward pass through both Q-networks.\"\"\"\n",
    "        sa = torch.cat([state, action], 1)\n",
    "\n",
    "        q1 = F.relu(self.l1(sa))\n",
    "        q1 = F.relu(self.l2(q1))\n",
    "        q1 = self.l3(q1)\n",
    "\n",
    "        q2 = F.relu(self.l4(sa))\n",
    "        q2 = F.relu(self.l5(q2))\n",
    "        q2 = self.l6(q2)\n",
    "        return q1, q2\n",
    "\n",
    "    def Q1(self, state, action):\n",
    "        \"\"\"Get Q1 value only (used for actor update).\"\"\"\n",
    "        sa = torch.cat([state, action], 1)\n",
    "\n",
    "        q1 = F.relu(self.l1(sa))\n",
    "        q1 = F.relu(self.l2(q1))\n",
    "        q1 = self.l3(q1)\n",
    "        return q1\n",
    "\n",
    "print(\"Critic network classes defined\")"
   ]
  },
  {
   "cell_type": "markdown",
   "metadata": {},
   "source": [
    "### DDPG Agent\n",
    "\n",
    "The DDPG algorithm from DDPG.py (original paper implementation):\n",
    "- Single critic network with 400-300 architecture\n",
    "- Actor network with 400-300 architecture\n",
    "- Direct policy updates every step\n",
    "- No target policy smoothing\n",
    "- Learning rate: 1e-4 for actor, weight_decay=1e-2 for critic\n",
    "- Tau: 0.001 (slower target network updates than TD3)\n",
    "- Batch size: 64"
   ]
  },
  {
   "cell_type": "code",
   "execution_count": 36,
   "metadata": {},
   "outputs": [
    {
     "name": "stdout",
     "output_type": "stream",
     "text": [
      "DDPG agent class defined (from DDPG.py)\n"
     ]
    }
   ],
   "source": [
    "class DDPG(object):\n",
    "    \"\"\"Deep Deterministic Policy Gradient (from DDPG.py - original paper implementation).\"\"\"\n",
    "    \n",
    "    def __init__(self, state_dim, action_dim, max_action, discount=0.99, tau=0.001):\n",
    "        # Initialize actor and target actor (using ActorDDPG with 400-300 architecture)\n",
    "        self.actor = ActorDDPG(state_dim, action_dim, max_action).to(device)\n",
    "        self.actor_target = copy.deepcopy(self.actor)\n",
    "        self.actor_optimizer = torch.optim.Adam(self.actor.parameters(), lr=1e-4)  # lr=1e-4\n",
    "\n",
    "        # Initialize critic and target critic\n",
    "        self.critic = CriticDDPG(state_dim, action_dim).to(device)\n",
    "        self.critic_target = copy.deepcopy(self.critic)\n",
    "        self.critic_optimizer = torch.optim.Adam(self.critic.parameters(), weight_decay=1e-2)  # weight_decay=1e-2\n",
    "\n",
    "        self.discount = discount\n",
    "        self.tau = tau  # tau = 0.001\n",
    "\n",
    "    def select_action(self, state):\n",
    "        \"\"\"Select action using current policy (no exploration noise).\"\"\"\n",
    "        state = torch.FloatTensor(state.reshape(1, -1)).to(device)\n",
    "        return self.actor(state).cpu().data.numpy().flatten()\n",
    "\n",
    "    def train(self, replay_buffer, batch_size=64):  # batch_size=64 (not 256)\n",
    "        \"\"\"Perform one training step.\"\"\"\n",
    "        # Sample replay buffer\n",
    "        state, action, next_state, reward, not_done = replay_buffer.sample(batch_size)\n",
    "\n",
    "        # Compute the target Q value\n",
    "        target_Q = self.critic_target(next_state, self.actor_target(next_state))\n",
    "        target_Q = reward + (not_done * self.discount * target_Q).detach()\n",
    "\n",
    "        # Get current Q estimate\n",
    "        current_Q = self.critic(state, action)\n",
    "\n",
    "        # Compute critic loss\n",
    "        critic_loss = F.mse_loss(current_Q, target_Q)\n",
    "\n",
    "        # Optimize the critic\n",
    "        self.critic_optimizer.zero_grad()\n",
    "        critic_loss.backward()\n",
    "        self.critic_optimizer.step()\n",
    "\n",
    "        # Compute actor loss\n",
    "        actor_loss = -self.critic(state, self.actor(state)).mean()\n",
    "        \n",
    "        # Optimize the actor\n",
    "        self.actor_optimizer.zero_grad()\n",
    "        actor_loss.backward()\n",
    "        self.actor_optimizer.step()\n",
    "\n",
    "        # Update the frozen target models\n",
    "        for param, target_param in zip(self.critic.parameters(), self.critic_target.parameters()):\n",
    "            target_param.data.copy_(self.tau * param.data + (1 - self.tau) * target_param.data)\n",
    "\n",
    "        for param, target_param in zip(self.actor.parameters(), self.actor_target.parameters()):\n",
    "            target_param.data.copy_(self.tau * param.data + (1 - self.tau) * target_param.data)\n",
    "        \n",
    "        return critic_loss.item(), actor_loss.item()\n",
    "\n",
    "    def save(self, filename):\n",
    "        \"\"\"Save model parameters.\"\"\"\n",
    "        torch.save(self.critic.state_dict(), filename + \"_critic\")\n",
    "        torch.save(self.critic_optimizer.state_dict(), filename + \"_critic_optimizer\")\n",
    "        torch.save(self.actor.state_dict(), filename + \"_actor\")\n",
    "        torch.save(self.actor_optimizer.state_dict(), filename + \"_actor_optimizer\")\n",
    "\n",
    "    def load(self, filename):\n",
    "        \"\"\"Load model parameters.\"\"\"\n",
    "        self.critic.load_state_dict(torch.load(filename + \"_critic\"))\n",
    "        self.critic_optimizer.load_state_dict(torch.load(filename + \"_critic_optimizer\"))\n",
    "        self.critic_target = copy.deepcopy(self.critic)\n",
    "\n",
    "        self.actor.load_state_dict(torch.load(filename + \"_actor\"))\n",
    "        self.actor_optimizer.load_state_dict(torch.load(filename + \"_actor_optimizer\"))\n",
    "        self.actor_target = copy.deepcopy(self.actor)\n",
    "\n",
    "print(\"DDPG agent class defined (from DDPG.py)\")"
   ]
  },
  {
   "cell_type": "markdown",
   "metadata": {},
   "source": [
    "### TD3 Agent\n",
    "\n",
    "The improved TD3 algorithm from TD3.py implementing three key innovations:\n",
    "1. **Clipped Double Q-Learning**: Twin critics with 256-256 architecture, uses min of two Q-networks for target\n",
    "2. **Delayed Policy Updates**: Updates actor every `policy_freq` steps (typically 2)\n",
    "3. **Target Policy Smoothing**: Adds clipped noise to target actions\n",
    "\n",
    "Configuration:\n",
    "- Actor network: 256-256 architecture\n",
    "- Twin critic networks: 256-256 architecture each\n",
    "- Learning rate: 3e-4 for both actor and critics\n",
    "- Tau: 0.005 (faster target network updates than DDPG)\n",
    "- Batch size: 256"
   ]
  },
  {
   "cell_type": "code",
   "execution_count": 37,
   "metadata": {},
   "outputs": [
    {
     "name": "stdout",
     "output_type": "stream",
     "text": [
      "TD3 agent class defined (from TD3.py)\n"
     ]
    }
   ],
   "source": [
    "class TD3(object):\n",
    "    \"\"\"Twin Delayed Deep Deterministic Policy Gradient (from TD3.py).\"\"\"\n",
    "    \n",
    "    def __init__(\n",
    "        self,\n",
    "        state_dim,\n",
    "        action_dim,\n",
    "        max_action,\n",
    "        discount=0.99,\n",
    "        tau=0.005,\n",
    "        policy_noise=0.2,\n",
    "        noise_clip=0.5,\n",
    "        policy_freq=2\n",
    "    ):\n",
    "        # Initialize actor and target actor (using ActorTD3 with 256-256 architecture)\n",
    "        self.actor = ActorTD3(state_dim, action_dim, max_action).to(device)\n",
    "        self.actor_target = copy.deepcopy(self.actor)\n",
    "        self.actor_optimizer = torch.optim.Adam(self.actor.parameters(), lr=3e-4)\n",
    "\n",
    "        # Initialize twin critics and target critics\n",
    "        self.critic = CriticTD3(state_dim, action_dim).to(device)\n",
    "        self.critic_target = copy.deepcopy(self.critic)\n",
    "        self.critic_optimizer = torch.optim.Adam(self.critic.parameters(), lr=3e-4)\n",
    "\n",
    "        self.max_action = max_action\n",
    "        self.discount = discount\n",
    "        self.tau = tau\n",
    "        self.policy_noise = policy_noise\n",
    "        self.noise_clip = noise_clip\n",
    "        self.policy_freq = policy_freq\n",
    "\n",
    "        self.total_it = 0\n",
    "\n",
    "    def select_action(self, state):\n",
    "        \"\"\"Select action using current policy (no exploration noise).\"\"\"\n",
    "        state = torch.FloatTensor(state.reshape(1, -1)).to(device)\n",
    "        return self.actor(state).cpu().data.numpy().flatten()\n",
    "\n",
    "    def train(self, replay_buffer, batch_size=256):\n",
    "        \"\"\"Perform one training step.\"\"\"\n",
    "        self.total_it += 1\n",
    "\n",
    "        # Sample replay buffer\n",
    "        state, action, next_state, reward, not_done = replay_buffer.sample(batch_size)\n",
    "\n",
    "        with torch.no_grad():\n",
    "            # Select action according to policy and add clipped noise (Target Policy Smoothing)\n",
    "            noise = (\n",
    "                torch.randn_like(action) * self.policy_noise\n",
    "            ).clamp(-self.noise_clip, self.noise_clip)\n",
    "            \n",
    "            next_action = (\n",
    "                self.actor_target(next_state) + noise\n",
    "            ).clamp(-self.max_action, self.max_action)\n",
    "\n",
    "            # Compute target Q value using minimum of two Q-networks (Clipped Double Q-Learning)\n",
    "            target_Q1, target_Q2 = self.critic_target(next_state, next_action)\n",
    "            target_Q = torch.min(target_Q1, target_Q2)\n",
    "            target_Q = reward + not_done * self.discount * target_Q\n",
    "\n",
    "        # Get current Q estimates from both critics\n",
    "        current_Q1, current_Q2 = self.critic(state, action)\n",
    "\n",
    "        # Compute critic loss (MSE for both Q-networks)\n",
    "        critic_loss = F.mse_loss(current_Q1, target_Q) + F.mse_loss(current_Q2, target_Q)\n",
    "\n",
    "        # Optimize the critic\n",
    "        self.critic_optimizer.zero_grad()\n",
    "        critic_loss.backward()\n",
    "        self.critic_optimizer.step()\n",
    "\n",
    "        actor_loss = None\n",
    "        # Delayed policy updates\n",
    "        if self.total_it % self.policy_freq == 0:\n",
    "\n",
    "            # Compute actor loss (maximize Q1)\n",
    "            actor_loss = -self.critic.Q1(state, self.actor(state)).mean()\n",
    "            \n",
    "            # Optimize the actor\n",
    "            self.actor_optimizer.zero_grad()\n",
    "            actor_loss.backward()\n",
    "            self.actor_optimizer.step()\n",
    "\n",
    "            # Update the frozen target models using soft (Polyak) updates\n",
    "            for param, target_param in zip(self.critic.parameters(), self.critic_target.parameters()):\n",
    "                target_param.data.copy_(self.tau * param.data + (1 - self.tau) * target_param.data)\n",
    "\n",
    "            for param, target_param in zip(self.actor.parameters(), self.actor_target.parameters()):\n",
    "                target_param.data.copy_(self.tau * param.data + (1 - self.tau) * target_param.data)\n",
    "        \n",
    "        return critic_loss.item(), actor_loss.item() if actor_loss is not None else None\n",
    "\n",
    "    def save(self, filename):\n",
    "        \"\"\"Save model parameters.\"\"\"\n",
    "        torch.save(self.critic.state_dict(), filename + \"_critic\")\n",
    "        torch.save(self.critic_optimizer.state_dict(), filename + \"_critic_optimizer\")\n",
    "        torch.save(self.actor.state_dict(), filename + \"_actor\")\n",
    "        torch.save(self.actor_optimizer.state_dict(), filename + \"_actor_optimizer\")\n",
    "\n",
    "    def load(self, filename):\n",
    "        \"\"\"Load model parameters.\"\"\"\n",
    "        self.critic.load_state_dict(torch.load(filename + \"_critic\"))\n",
    "        self.critic_optimizer.load_state_dict(torch.load(filename + \"_critic_optimizer\"))\n",
    "        self.critic_target = copy.deepcopy(self.critic)\n",
    "\n",
    "        self.actor.load_state_dict(torch.load(filename + \"_actor\"))\n",
    "        self.actor_optimizer.load_state_dict(torch.load(filename + \"_actor_optimizer\"))\n",
    "        self.actor_target = copy.deepcopy(self.actor)\n",
    "\n",
    "print(\"TD3 agent class defined (from TD3.py)\")"
   ]
  },
  {
   "cell_type": "markdown",
   "metadata": {},
   "source": [
    "### Evaluation Function\n",
    "\n",
    "Evaluates the policy over multiple episodes without exploration noise."
   ]
  },
  {
   "cell_type": "code",
   "execution_count": 38,
   "metadata": {},
   "outputs": [
    {
     "name": "stdout",
     "output_type": "stream",
     "text": [
      "Evaluation function defined\n"
     ]
    }
   ],
   "source": [
    "def eval_policy(policy, env_name, seed, eval_episodes=10):\n",
    "    \"\"\"Evaluate the policy over multiple episodes.\"\"\"\n",
    "    eval_env = gym.make(env_name)\n",
    "    avg_reward = 0.\n",
    "    for _ in tqdm(range(eval_episodes), desc=\"Evaluating\", leave=False):\n",
    "        state = eval_env.reset(seed=seed + 100)[0]\n",
    "        done = False\n",
    "        while not done:\n",
    "            action = policy.select_action(np.array(state))\n",
    "            state, reward, terminated, truncated, _ = eval_env.step(action)\n",
    "            done = terminated or truncated\n",
    "            avg_reward += reward\n",
    "\n",
    "    avg_reward /= eval_episodes\n",
    "\n",
    "    print(f\"Evaluation over {eval_episodes} episodes: {avg_reward:.3f}\")\n",
    "    return avg_reward\n",
    "\n",
    "print(\"Evaluation function defined\")"
   ]
  },
  {
   "cell_type": "markdown",
   "metadata": {},
   "source": [
    "## Training Setup\n",
    "\n",
    "### Hyperparameters\n",
    "\n",
    "We use **Reacher-v5** as it's the fastest environment (~51 min/1M steps). We'll reduce timesteps for faster experimentation while maintaining meaningful results."
   ]
  },
  {
   "cell_type": "code",
   "execution_count": null,
   "metadata": {},
   "outputs": [],
   "source": [
    "# Training hyperparameters (matching main.py defaults)\n",
    "env_name = \"Reacher-v5\"  # Fastest environment for training\n",
    "seed = 0\n",
    "\n",
    "# Training timesteps - using 50% of original (1M -> 500K)\n",
    "max_timesteps = int(5e5)  # 500K timesteps (50% of original 1M)\n",
    "start_timesteps = int(25e3)  # 25K initial random exploration (from main.py)\n",
    "eval_freq = int(5e3)  # Evaluate every 5K steps\n",
    "\n",
    "batch_size = 256  # Batch size for TD3 (DDPG uses 64, defined in its train method)\n",
    "discount = 0.99\n",
    "tau = 0.005  # Default tau for TD3 (DDPG uses 0.001)\n",
    "\n",
    "# TD3-specific parameters\n",
    "policy_noise = 0.2\n",
    "noise_clip = 0.5\n",
    "policy_freq = 2  # Delayed policy update frequency\n",
    "\n",
    "expl_noise = 0.1  # Exploration noise std\n",
    "save_model = True  # Whether to save models\n",
    "\n",
    "print(f\"Environment: {env_name}\")\n",
    "print(f\"Seed: {seed}\")\n",
    "print(f\"Max timesteps: {max_timesteps:,} (50% of original 1M)\")\n",
    "print(f\"Start timesteps: {start_timesteps:,}\")\n",
    "print(f\"Evaluation frequency: {eval_freq:,}\")\n",
    "print(f\"Batch size: {batch_size} (TD3), 64 (DDPG)\")\n",
    "print(f\"\\nNote: DDPG uses tau=0.001, TD3 uses tau=0.005\")\n",
    "print(f\"Note: DDPG uses batch_size=64, TD3 uses batch_size=256\")"
   ]
  },
  {
   "cell_type": "markdown",
   "metadata": {},
   "source": [
    "### Environment Setup"
   ]
  },
  {
   "cell_type": "code",
   "execution_count": 40,
   "metadata": {},
   "outputs": [
    {
     "name": "stdout",
     "output_type": "stream",
     "text": [
      "State dimension: 10\n",
      "Action dimension: 2\n",
      "Max action: 1.0\n"
     ]
    }
   ],
   "source": [
    "# Create results directory\n",
    "if not os.path.exists(\"./notebook_results\"):\n",
    "    os.makedirs(\"./notebook_results\")\n",
    "\n",
    "if save_model and not os.path.exists(\"./notebook_models\"):\n",
    "    os.makedirs(\"./notebook_models\")\n",
    "\n",
    "# Create environment\n",
    "env = gym.make(env_name)\n",
    "\n",
    "# Set seeds\n",
    "env.action_space.seed(seed)\n",
    "torch.manual_seed(seed)\n",
    "np.random.seed(seed)\n",
    "\n",
    "# Get environment dimensions\n",
    "state_dim = env.observation_space.shape[0]\n",
    "action_dim = env.action_space.shape[0]\n",
    "max_action = float(env.action_space.high[0])\n",
    "\n",
    "print(f\"State dimension: {state_dim}\")\n",
    "print(f\"Action dimension: {action_dim}\")\n",
    "print(f\"Max action: {max_action}\")"
   ]
  },
  {
   "cell_type": "markdown",
   "metadata": {},
   "source": [
    "### Train TD3"
   ]
  },
  {
   "cell_type": "markdown",
   "metadata": {},
   "source": [
    "## Results Analysis and Comparison"
   ]
  },
  {
   "cell_type": "code",
   "execution_count": 41,
   "metadata": {},
   "outputs": [
    {
     "name": "stdout",
     "output_type": "stream",
     "text": [
      "======================================================================\n",
      "Training DDPG\n",
      "======================================================================\n",
      "DDPG agent initialized\n",
      "Architecture: 400-300 hidden layers (from DDPG.py)\n",
      "Replay buffer capacity: 1,000,000 transitions\n",
      "\n",
      "Evaluating untrained DDPG policy...\n"
     ]
    },
    {
     "name": "stderr",
     "output_type": "stream",
     "text": [
      "Evaluating:   0%|          | 0/10 [00:00<?, ?it/s]"
     ]
    },
    {
     "name": "stderr",
     "output_type": "stream",
     "text": [
      "                                                          \r"
     ]
    },
    {
     "name": "stdout",
     "output_type": "stream",
     "text": [
      "Evaluation over 10 episodes: -37.748\n",
      "\n",
      "Starting DDPG training for 200,000 timesteps...\n",
      "Random exploration for first 10,000 steps\n",
      "Evaluation frequency: every 5,000 steps\n",
      "\n"
     ]
    },
    {
     "name": "stderr",
     "output_type": "stream",
     "text": [
      "Training DDPG:   3%|▎         | 6311/200000 [00:00<00:20, 9536.24it/s] "
     ]
    },
    {
     "name": "stdout",
     "output_type": "stream",
     "text": [
      "Evaluation over 10 episodes: -37.748\n"
     ]
    },
    {
     "name": "stderr",
     "output_type": "stream",
     "text": [
      "Training DDPG:   5%|▌         | 10020/200000 [00:01<00:26, 7285.00it/s]"
     ]
    },
    {
     "name": "stdout",
     "output_type": "stream",
     "text": [
      "Evaluation over 10 episodes: -37.748\n"
     ]
    },
    {
     "name": "stderr",
     "output_type": "stream",
     "text": [
      "Training DDPG:   8%|▊         | 15031/200000 [00:18<13:17, 231.95it/s] "
     ]
    },
    {
     "name": "stdout",
     "output_type": "stream",
     "text": [
      "Evaluation over 10 episodes: -1.219\n"
     ]
    },
    {
     "name": "stderr",
     "output_type": "stream",
     "text": [
      "Training DDPG:  10%|█         | 20043/200000 [00:35<12:41, 236.46it/s]"
     ]
    },
    {
     "name": "stdout",
     "output_type": "stream",
     "text": [
      "Evaluation over 10 episodes: -9.651\n"
     ]
    },
    {
     "name": "stderr",
     "output_type": "stream",
     "text": [
      "Training DDPG:  13%|█▎        | 25027/200000 [00:52<13:38, 213.89it/s]"
     ]
    },
    {
     "name": "stdout",
     "output_type": "stream",
     "text": [
      "Evaluation over 10 episodes: -9.890\n"
     ]
    },
    {
     "name": "stderr",
     "output_type": "stream",
     "text": [
      "Training DDPG:  15%|█▌        | 30031/200000 [01:09<12:05, 234.22it/s]"
     ]
    },
    {
     "name": "stdout",
     "output_type": "stream",
     "text": [
      "Evaluation over 10 episodes: -9.822\n"
     ]
    },
    {
     "name": "stderr",
     "output_type": "stream",
     "text": [
      "Training DDPG:  18%|█▊        | 35056/200000 [01:26<11:43, 234.50it/s]"
     ]
    },
    {
     "name": "stdout",
     "output_type": "stream",
     "text": [
      "Evaluation over 10 episodes: -7.653\n"
     ]
    },
    {
     "name": "stderr",
     "output_type": "stream",
     "text": [
      "Training DDPG:  20%|██        | 40055/200000 [01:43<11:31, 231.38it/s]"
     ]
    },
    {
     "name": "stdout",
     "output_type": "stream",
     "text": [
      "Evaluation over 10 episodes: -7.204\n"
     ]
    },
    {
     "name": "stderr",
     "output_type": "stream",
     "text": [
      "Training DDPG:  23%|██▎       | 45035/200000 [02:00<11:02, 233.94it/s]"
     ]
    },
    {
     "name": "stdout",
     "output_type": "stream",
     "text": [
      "Evaluation over 10 episodes: -7.557\n"
     ]
    },
    {
     "name": "stderr",
     "output_type": "stream",
     "text": [
      "Training DDPG:  25%|██▌       | 50039/200000 [02:17<11:24, 219.08it/s]"
     ]
    },
    {
     "name": "stdout",
     "output_type": "stream",
     "text": [
      "Evaluation over 10 episodes: -6.757\n"
     ]
    },
    {
     "name": "stderr",
     "output_type": "stream",
     "text": [
      "Training DDPG:  28%|██▊       | 55037/200000 [02:34<10:17, 234.66it/s]"
     ]
    },
    {
     "name": "stdout",
     "output_type": "stream",
     "text": [
      "Evaluation over 10 episodes: -7.168\n"
     ]
    },
    {
     "name": "stderr",
     "output_type": "stream",
     "text": [
      "Training DDPG:  30%|███       | 60043/200000 [02:51<10:01, 232.58it/s]"
     ]
    },
    {
     "name": "stdout",
     "output_type": "stream",
     "text": [
      "Evaluation over 10 episodes: -7.097\n"
     ]
    },
    {
     "name": "stderr",
     "output_type": "stream",
     "text": [
      "Training DDPG:  33%|███▎      | 65047/200000 [03:08<09:31, 236.25it/s]"
     ]
    },
    {
     "name": "stdout",
     "output_type": "stream",
     "text": [
      "Evaluation over 10 episodes: -6.702\n"
     ]
    },
    {
     "name": "stderr",
     "output_type": "stream",
     "text": [
      "Training DDPG:  35%|███▌      | 70048/200000 [03:25<09:16, 233.31it/s]"
     ]
    },
    {
     "name": "stdout",
     "output_type": "stream",
     "text": [
      "Evaluation over 10 episodes: -6.966\n"
     ]
    },
    {
     "name": "stderr",
     "output_type": "stream",
     "text": [
      "Training DDPG:  38%|███▊      | 75017/200000 [03:44<11:36, 179.50it/s]"
     ]
    },
    {
     "name": "stdout",
     "output_type": "stream",
     "text": [
      "Evaluation over 10 episodes: -7.317\n"
     ]
    },
    {
     "name": "stderr",
     "output_type": "stream",
     "text": [
      "Training DDPG:  40%|████      | 80054/200000 [04:01<08:33, 233.49it/s]"
     ]
    },
    {
     "name": "stdout",
     "output_type": "stream",
     "text": [
      "Evaluation over 10 episodes: -6.977\n"
     ]
    },
    {
     "name": "stderr",
     "output_type": "stream",
     "text": [
      "Training DDPG:  43%|████▎     | 85040/200000 [04:19<08:11, 233.83it/s]"
     ]
    },
    {
     "name": "stdout",
     "output_type": "stream",
     "text": [
      "Evaluation over 10 episodes: -7.407\n"
     ]
    },
    {
     "name": "stderr",
     "output_type": "stream",
     "text": [
      "Training DDPG:  45%|████▌     | 90048/200000 [04:36<08:30, 215.40it/s]"
     ]
    },
    {
     "name": "stdout",
     "output_type": "stream",
     "text": [
      "Evaluation over 10 episodes: -7.441\n"
     ]
    },
    {
     "name": "stderr",
     "output_type": "stream",
     "text": [
      "Training DDPG:  48%|████▊     | 95054/200000 [04:53<07:25, 235.32it/s]"
     ]
    },
    {
     "name": "stdout",
     "output_type": "stream",
     "text": [
      "Evaluation over 10 episodes: -7.721\n"
     ]
    },
    {
     "name": "stderr",
     "output_type": "stream",
     "text": [
      "Training DDPG:  50%|█████     | 100050/200000 [05:10<07:11, 231.42it/s]"
     ]
    },
    {
     "name": "stdout",
     "output_type": "stream",
     "text": [
      "Evaluation over 10 episodes: -8.157\n"
     ]
    },
    {
     "name": "stderr",
     "output_type": "stream",
     "text": [
      "Training DDPG:  53%|█████▎    | 105049/200000 [05:27<06:44, 234.53it/s]"
     ]
    },
    {
     "name": "stdout",
     "output_type": "stream",
     "text": [
      "Evaluation over 10 episodes: -8.018\n"
     ]
    },
    {
     "name": "stderr",
     "output_type": "stream",
     "text": [
      "Training DDPG:  55%|█████▌    | 110033/200000 [05:44<06:23, 234.45it/s]"
     ]
    },
    {
     "name": "stdout",
     "output_type": "stream",
     "text": [
      "Evaluation over 10 episodes: -8.958\n"
     ]
    },
    {
     "name": "stderr",
     "output_type": "stream",
     "text": [
      "Training DDPG:  58%|█████▊    | 115032/200000 [06:01<06:05, 232.37it/s]"
     ]
    },
    {
     "name": "stdout",
     "output_type": "stream",
     "text": [
      "Evaluation over 10 episodes: -8.201\n"
     ]
    },
    {
     "name": "stderr",
     "output_type": "stream",
     "text": [
      "Training DDPG:  60%|██████    | 120041/200000 [06:18<05:39, 235.57it/s]"
     ]
    },
    {
     "name": "stdout",
     "output_type": "stream",
     "text": [
      "Evaluation over 10 episodes: -5.901\n"
     ]
    },
    {
     "name": "stderr",
     "output_type": "stream",
     "text": [
      "Training DDPG:  63%|██████▎   | 125028/200000 [06:35<05:58, 209.36it/s]"
     ]
    },
    {
     "name": "stdout",
     "output_type": "stream",
     "text": [
      "Evaluation over 10 episodes: -4.827\n"
     ]
    },
    {
     "name": "stderr",
     "output_type": "stream",
     "text": [
      "Training DDPG:  65%|██████▌   | 130038/200000 [06:52<04:56, 235.82it/s]"
     ]
    },
    {
     "name": "stdout",
     "output_type": "stream",
     "text": [
      "Evaluation over 10 episodes: -5.310\n"
     ]
    },
    {
     "name": "stderr",
     "output_type": "stream",
     "text": [
      "Training DDPG:  68%|██████▊   | 135030/200000 [07:09<04:40, 231.60it/s]"
     ]
    },
    {
     "name": "stdout",
     "output_type": "stream",
     "text": [
      "Evaluation over 10 episodes: -5.617\n"
     ]
    },
    {
     "name": "stderr",
     "output_type": "stream",
     "text": [
      "Training DDPG:  70%|███████   | 140041/200000 [07:26<04:15, 234.84it/s]"
     ]
    },
    {
     "name": "stdout",
     "output_type": "stream",
     "text": [
      "Evaluation over 10 episodes: -6.177\n"
     ]
    },
    {
     "name": "stderr",
     "output_type": "stream",
     "text": [
      "Training DDPG:  73%|███████▎  | 145032/200000 [07:44<03:55, 233.38it/s]"
     ]
    },
    {
     "name": "stdout",
     "output_type": "stream",
     "text": [
      "Evaluation over 10 episodes: -6.452\n"
     ]
    },
    {
     "name": "stderr",
     "output_type": "stream",
     "text": [
      "Training DDPG:  75%|███████▌  | 150028/200000 [08:01<03:52, 214.53it/s]"
     ]
    },
    {
     "name": "stdout",
     "output_type": "stream",
     "text": [
      "Evaluation over 10 episodes: -7.231\n"
     ]
    },
    {
     "name": "stderr",
     "output_type": "stream",
     "text": [
      "Training DDPG:  78%|███████▊  | 155042/200000 [08:18<03:11, 234.22it/s]"
     ]
    },
    {
     "name": "stdout",
     "output_type": "stream",
     "text": [
      "Evaluation over 10 episodes: -6.832\n"
     ]
    },
    {
     "name": "stderr",
     "output_type": "stream",
     "text": [
      "Training DDPG:  80%|████████  | 160042/200000 [08:35<02:52, 231.84it/s]"
     ]
    },
    {
     "name": "stdout",
     "output_type": "stream",
     "text": [
      "Evaluation over 10 episodes: -6.983\n"
     ]
    },
    {
     "name": "stderr",
     "output_type": "stream",
     "text": [
      "Training DDPG:  83%|████████▎ | 165041/200000 [08:52<02:28, 236.11it/s]"
     ]
    },
    {
     "name": "stdout",
     "output_type": "stream",
     "text": [
      "Evaluation over 10 episodes: -6.826\n"
     ]
    },
    {
     "name": "stderr",
     "output_type": "stream",
     "text": [
      "Training DDPG:  85%|████████▌ | 170029/200000 [09:09<02:20, 212.89it/s]"
     ]
    },
    {
     "name": "stdout",
     "output_type": "stream",
     "text": [
      "Evaluation over 10 episodes: -6.583\n"
     ]
    },
    {
     "name": "stderr",
     "output_type": "stream",
     "text": [
      "Training DDPG:  88%|████████▊ | 175036/200000 [09:26<01:46, 234.73it/s]"
     ]
    },
    {
     "name": "stdout",
     "output_type": "stream",
     "text": [
      "Evaluation over 10 episodes: -6.370\n"
     ]
    },
    {
     "name": "stderr",
     "output_type": "stream",
     "text": [
      "Training DDPG:  90%|█████████ | 180028/200000 [09:43<01:33, 214.26it/s]"
     ]
    },
    {
     "name": "stdout",
     "output_type": "stream",
     "text": [
      "Evaluation over 10 episodes: -6.804\n"
     ]
    },
    {
     "name": "stderr",
     "output_type": "stream",
     "text": [
      "Training DDPG:  93%|█████████▎| 185028/200000 [10:00<01:10, 213.55it/s]"
     ]
    },
    {
     "name": "stdout",
     "output_type": "stream",
     "text": [
      "Evaluation over 10 episodes: -6.957\n"
     ]
    },
    {
     "name": "stderr",
     "output_type": "stream",
     "text": [
      "Training DDPG:  95%|█████████▌| 190051/200000 [10:17<00:42, 233.66it/s]"
     ]
    },
    {
     "name": "stdout",
     "output_type": "stream",
     "text": [
      "Evaluation over 10 episodes: -6.547\n"
     ]
    },
    {
     "name": "stderr",
     "output_type": "stream",
     "text": [
      "Training DDPG:  98%|█████████▊| 195049/200000 [10:35<00:21, 233.05it/s]"
     ]
    },
    {
     "name": "stdout",
     "output_type": "stream",
     "text": [
      "Evaluation over 10 episodes: -6.915\n"
     ]
    },
    {
     "name": "stderr",
     "output_type": "stream",
     "text": [
      "Training DDPG: 100%|██████████| 200000/200000 [10:51<00:00, 306.75it/s]"
     ]
    },
    {
     "name": "stdout",
     "output_type": "stream",
     "text": [
      "Evaluation over 10 episodes: -6.132\n",
      "\n",
      "DDPG Training completed!\n",
      "Training time: 00:10:51\n",
      "Final evaluation reward: -6.132\n"
     ]
    },
    {
     "name": "stderr",
     "output_type": "stream",
     "text": [
      "\n"
     ]
    }
   ],
   "source": [
    "print(\"=\"*70)\n",
    "print(\"Training DDPG\")\n",
    "print(\"=\"*70)\n",
    "\n",
    "# Initialize DDPG agent with tau=0.001 (from DDPG.py)\n",
    "ddpg_policy = DDPG(\n",
    "    state_dim=state_dim,\n",
    "    action_dim=action_dim,\n",
    "    max_action=max_action,\n",
    "    discount=discount,\n",
    ")\n",
    "\n",
    "# Initialize replay buffer\n",
    "ddpg_replay_buffer = ReplayBuffer(state_dim, action_dim)\n",
    "\n",
    "print(\"DDPG agent initialized\")\n",
    "print(f\"Architecture: 400-300 hidden layers (from DDPG.py)\")\n",
    "print(f\"Replay buffer capacity: 1,000,000 transitions\")\n",
    "\n",
    "# Evaluate untrained policy\n",
    "print(\"\\nEvaluating untrained DDPG policy...\")\n",
    "ddpg_evaluations = [eval_policy(ddpg_policy, env_name, seed)]\n",
    "\n",
    "# Initialize training variables\n",
    "state = env.reset(seed=seed)[0]\n",
    "done = False\n",
    "episode_reward = 0\n",
    "episode_timesteps = 0\n",
    "episode_num = 0\n",
    "\n",
    "ddpg_start_time = time.time()\n",
    "\n",
    "print(f\"\\nStarting DDPG training for {max_timesteps:,} timesteps...\")\n",
    "print(f\"Random exploration for first {start_timesteps:,} steps\")\n",
    "print(f\"Evaluation frequency: every {eval_freq:,} steps\\n\")\n",
    "\n",
    "# Main training loop\n",
    "for t in tqdm(range(int(max_timesteps)), desc=\"Training DDPG\"):\n",
    "    \n",
    "    episode_timesteps += 1\n",
    "\n",
    "    # Select action randomly or according to policy with exploration noise\n",
    "    if t < start_timesteps:\n",
    "        action = env.action_space.sample()\n",
    "    else:\n",
    "        action = (\n",
    "            ddpg_policy.select_action(np.array(state))\n",
    "            + np.random.normal(0, max_action * expl_noise, size=action_dim)\n",
    "        ).clip(-max_action, max_action)\n",
    "\n",
    "    # Perform action in environment\n",
    "    next_state, reward, terminated, truncated, _ = env.step(action)\n",
    "    done = terminated or truncated\n",
    "    done_bool = float(done) if episode_timesteps < env._max_episode_steps else 0\n",
    "\n",
    "    # Store transition in replay buffer\n",
    "    ddpg_replay_buffer.add(state, action, next_state, reward, done_bool)\n",
    "\n",
    "    state = next_state\n",
    "    episode_reward += reward\n",
    "\n",
    "    # Train agent after collecting sufficient data\n",
    "    if t >= start_timesteps:\n",
    "        critic_loss, actor_loss = ddpg_policy.train(ddpg_replay_buffer, batch_size)\n",
    "\n",
    "    if done:\n",
    "        # Reset environment\n",
    "        state = env.reset(seed=seed)[0]\n",
    "        done = False\n",
    "        episode_reward = 0\n",
    "        episode_timesteps = 0\n",
    "        episode_num += 1\n",
    "\n",
    "    # Evaluate episode\n",
    "    if (t + 1) % eval_freq == 0:\n",
    "        eval_reward = eval_policy(ddpg_policy, env_name, seed)\n",
    "        ddpg_evaluations.append(eval_reward)\n",
    "        \n",
    "        if save_model:\n",
    "            os.makedirs(f\"./notebook_models/{env_name}\", exist_ok=True)\n",
    "            ddpg_policy.save(f\"./notebook_models/{env_name}/DDPG_seed{seed}\")\n",
    "\n",
    "ddpg_end_time = time.time()\n",
    "ddpg_duration = ddpg_end_time - ddpg_start_time\n",
    "\n",
    "print(\"\\nDDPG Training completed!\")\n",
    "hours = int(ddpg_duration // 3600)\n",
    "minutes = int((ddpg_duration % 3600) // 60)\n",
    "seconds = int(ddpg_duration % 60)\n",
    "print(f\"Training time: {hours:02d}:{minutes:02d}:{seconds:02d}\")\n",
    "print(f\"Final evaluation reward: {ddpg_evaluations[-1]:.3f}\")"
   ]
  },
  {
   "cell_type": "code",
   "execution_count": 42,
   "metadata": {},
   "outputs": [
    {
     "name": "stdout",
     "output_type": "stream",
     "text": [
      "\n",
      "======================================================================\n",
      "Training TD3\n",
      "======================================================================\n",
      "TD3 agent initialized\n",
      "Architecture: Twin critics with 256-256 hidden layers\n",
      "Replay buffer capacity: 1,000,000 transitions\n",
      "\n",
      "Evaluating untrained TD3 policy...\n"
     ]
    },
    {
     "name": "stderr",
     "output_type": "stream",
     "text": [
      "                                                          \r"
     ]
    },
    {
     "name": "stdout",
     "output_type": "stream",
     "text": [
      "Evaluation over 10 episodes: -7.070\n",
      "\n",
      "Starting TD3 training for 200,000 timesteps...\n",
      "Random exploration for first 10,000 steps\n",
      "Evaluation frequency: every 5,000 steps\n",
      "\n"
     ]
    },
    {
     "name": "stderr",
     "output_type": "stream",
     "text": [
      "Training TD3:   3%|▎         | 6307/200000 [00:00<00:20, 9545.99it/s] "
     ]
    },
    {
     "name": "stdout",
     "output_type": "stream",
     "text": [
      "Evaluation over 10 episodes: -7.070\n"
     ]
    },
    {
     "name": "stderr",
     "output_type": "stream",
     "text": [
      "Training TD3:   4%|▍         | 8832/200000 [00:00<00:17, 11044.35it/s]"
     ]
    },
    {
     "name": "stdout",
     "output_type": "stream",
     "text": [
      "Evaluation over 10 episodes: -7.070\n"
     ]
    },
    {
     "name": "stderr",
     "output_type": "stream",
     "text": [
      "Training TD3:   8%|▊         | 15039/200000 [00:17<12:07, 254.13it/s] "
     ]
    },
    {
     "name": "stdout",
     "output_type": "stream",
     "text": [
      "Evaluation over 10 episodes: -7.056\n"
     ]
    },
    {
     "name": "stderr",
     "output_type": "stream",
     "text": [
      "Training TD3:  10%|█         | 20029/200000 [00:32<12:52, 233.03it/s]"
     ]
    },
    {
     "name": "stdout",
     "output_type": "stream",
     "text": [
      "Evaluation over 10 episodes: -5.851\n"
     ]
    },
    {
     "name": "stderr",
     "output_type": "stream",
     "text": [
      "Training TD3:  13%|█▎        | 25041/200000 [00:48<12:21, 236.06it/s]"
     ]
    },
    {
     "name": "stdout",
     "output_type": "stream",
     "text": [
      "Evaluation over 10 episodes: -6.206\n"
     ]
    },
    {
     "name": "stderr",
     "output_type": "stream",
     "text": [
      "Training TD3:  15%|█▌        | 30047/200000 [01:04<11:08, 254.22it/s]"
     ]
    },
    {
     "name": "stdout",
     "output_type": "stream",
     "text": [
      "Evaluation over 10 episodes: -6.878\n"
     ]
    },
    {
     "name": "stderr",
     "output_type": "stream",
     "text": [
      "Training TD3:  18%|█▊        | 35049/200000 [01:20<11:10, 245.92it/s]"
     ]
    },
    {
     "name": "stdout",
     "output_type": "stream",
     "text": [
      "Evaluation over 10 episodes: -7.063\n"
     ]
    },
    {
     "name": "stderr",
     "output_type": "stream",
     "text": [
      "Training TD3:  20%|██        | 40035/200000 [01:36<10:35, 251.68it/s]"
     ]
    },
    {
     "name": "stdout",
     "output_type": "stream",
     "text": [
      "Evaluation over 10 episodes: -6.350\n"
     ]
    },
    {
     "name": "stderr",
     "output_type": "stream",
     "text": [
      "Training TD3:  23%|██▎       | 45030/200000 [01:52<11:04, 233.11it/s]"
     ]
    },
    {
     "name": "stdout",
     "output_type": "stream",
     "text": [
      "Evaluation over 10 episodes: -6.962\n"
     ]
    },
    {
     "name": "stderr",
     "output_type": "stream",
     "text": [
      "Training TD3:  25%|██▌       | 50045/200000 [02:08<10:49, 230.95it/s]"
     ]
    },
    {
     "name": "stdout",
     "output_type": "stream",
     "text": [
      "Evaluation over 10 episodes: -6.438\n"
     ]
    },
    {
     "name": "stderr",
     "output_type": "stream",
     "text": [
      "Training TD3:  28%|██▊       | 55040/200000 [02:24<09:34, 252.11it/s]"
     ]
    },
    {
     "name": "stdout",
     "output_type": "stream",
     "text": [
      "Evaluation over 10 episodes: -6.679\n"
     ]
    },
    {
     "name": "stderr",
     "output_type": "stream",
     "text": [
      "Training TD3:  30%|███       | 60048/200000 [02:40<09:16, 251.50it/s]"
     ]
    },
    {
     "name": "stdout",
     "output_type": "stream",
     "text": [
      "Evaluation over 10 episodes: -6.610\n"
     ]
    },
    {
     "name": "stderr",
     "output_type": "stream",
     "text": [
      "Training TD3:  33%|███▎      | 65043/200000 [02:55<08:56, 251.79it/s]"
     ]
    },
    {
     "name": "stdout",
     "output_type": "stream",
     "text": [
      "Evaluation over 10 episodes: -6.817\n"
     ]
    },
    {
     "name": "stderr",
     "output_type": "stream",
     "text": [
      "Training TD3:  35%|███▌      | 70056/200000 [03:11<08:32, 253.67it/s]"
     ]
    },
    {
     "name": "stdout",
     "output_type": "stream",
     "text": [
      "Evaluation over 10 episodes: -7.112\n"
     ]
    },
    {
     "name": "stderr",
     "output_type": "stream",
     "text": [
      "Training TD3:  38%|███▊      | 75034/200000 [03:27<08:23, 248.33it/s]"
     ]
    },
    {
     "name": "stdout",
     "output_type": "stream",
     "text": [
      "Evaluation over 10 episodes: -6.519\n"
     ]
    },
    {
     "name": "stderr",
     "output_type": "stream",
     "text": [
      "Training TD3:  40%|████      | 80052/200000 [03:43<07:52, 253.88it/s]"
     ]
    },
    {
     "name": "stdout",
     "output_type": "stream",
     "text": [
      "Evaluation over 10 episodes: -6.663\n"
     ]
    },
    {
     "name": "stderr",
     "output_type": "stream",
     "text": [
      "Training TD3:  43%|████▎     | 85033/200000 [03:59<07:28, 256.22it/s]"
     ]
    },
    {
     "name": "stdout",
     "output_type": "stream",
     "text": [
      "Evaluation over 10 episodes: -6.431\n"
     ]
    },
    {
     "name": "stderr",
     "output_type": "stream",
     "text": [
      "Training TD3:  45%|████▌     | 90046/200000 [04:14<07:11, 254.72it/s]"
     ]
    },
    {
     "name": "stdout",
     "output_type": "stream",
     "text": [
      "Evaluation over 10 episodes: -6.627\n"
     ]
    },
    {
     "name": "stderr",
     "output_type": "stream",
     "text": [
      "Training TD3:  48%|████▊     | 95038/200000 [04:30<06:57, 251.38it/s]"
     ]
    },
    {
     "name": "stdout",
     "output_type": "stream",
     "text": [
      "Evaluation over 10 episodes: -6.415\n"
     ]
    },
    {
     "name": "stderr",
     "output_type": "stream",
     "text": [
      "Training TD3:  50%|█████     | 100059/200000 [04:46<06:30, 255.61it/s]"
     ]
    },
    {
     "name": "stdout",
     "output_type": "stream",
     "text": [
      "Evaluation over 10 episodes: -6.538\n"
     ]
    },
    {
     "name": "stderr",
     "output_type": "stream",
     "text": [
      "Training TD3:  53%|█████▎    | 105031/200000 [05:01<06:42, 235.74it/s]"
     ]
    },
    {
     "name": "stdout",
     "output_type": "stream",
     "text": [
      "Evaluation over 10 episodes: -6.843\n"
     ]
    },
    {
     "name": "stderr",
     "output_type": "stream",
     "text": [
      "Training TD3:  55%|█████▌    | 110057/200000 [05:17<05:49, 257.51it/s]"
     ]
    },
    {
     "name": "stdout",
     "output_type": "stream",
     "text": [
      "Evaluation over 10 episodes: -6.450\n"
     ]
    },
    {
     "name": "stderr",
     "output_type": "stream",
     "text": [
      "Training TD3:  58%|█████▊    | 115037/200000 [05:33<05:34, 254.31it/s]"
     ]
    },
    {
     "name": "stdout",
     "output_type": "stream",
     "text": [
      "Evaluation over 10 episodes: -6.695\n"
     ]
    },
    {
     "name": "stderr",
     "output_type": "stream",
     "text": [
      "Training TD3:  60%|██████    | 120040/200000 [05:48<05:10, 257.26it/s]"
     ]
    },
    {
     "name": "stdout",
     "output_type": "stream",
     "text": [
      "Evaluation over 10 episodes: -6.566\n"
     ]
    },
    {
     "name": "stderr",
     "output_type": "stream",
     "text": [
      "Training TD3:  63%|██████▎   | 125056/200000 [06:04<04:52, 256.03it/s]"
     ]
    },
    {
     "name": "stdout",
     "output_type": "stream",
     "text": [
      "Evaluation over 10 episodes: -6.714\n"
     ]
    },
    {
     "name": "stderr",
     "output_type": "stream",
     "text": [
      "Training TD3:  65%|██████▌   | 130042/200000 [06:20<04:38, 251.41it/s]"
     ]
    },
    {
     "name": "stdout",
     "output_type": "stream",
     "text": [
      "Evaluation over 10 episodes: -6.749\n"
     ]
    },
    {
     "name": "stderr",
     "output_type": "stream",
     "text": [
      "Training TD3:  68%|██████▊   | 135042/200000 [06:36<04:13, 255.86it/s]"
     ]
    },
    {
     "name": "stdout",
     "output_type": "stream",
     "text": [
      "Evaluation over 10 episodes: -6.447\n"
     ]
    },
    {
     "name": "stderr",
     "output_type": "stream",
     "text": [
      "Training TD3:  70%|███████   | 140061/200000 [06:51<03:53, 256.34it/s]"
     ]
    },
    {
     "name": "stdout",
     "output_type": "stream",
     "text": [
      "Evaluation over 10 episodes: -6.624\n"
     ]
    },
    {
     "name": "stderr",
     "output_type": "stream",
     "text": [
      "Training TD3:  73%|███████▎  | 145049/200000 [07:07<03:37, 252.69it/s]"
     ]
    },
    {
     "name": "stdout",
     "output_type": "stream",
     "text": [
      "Evaluation over 10 episodes: -6.530\n"
     ]
    },
    {
     "name": "stderr",
     "output_type": "stream",
     "text": [
      "Training TD3:  75%|███████▌  | 150034/200000 [07:23<03:14, 256.43it/s]"
     ]
    },
    {
     "name": "stdout",
     "output_type": "stream",
     "text": [
      "Evaluation over 10 episodes: -6.530\n"
     ]
    },
    {
     "name": "stderr",
     "output_type": "stream",
     "text": [
      "Training TD3:  78%|███████▊  | 155059/200000 [07:38<02:57, 253.49it/s]"
     ]
    },
    {
     "name": "stdout",
     "output_type": "stream",
     "text": [
      "Evaluation over 10 episodes: -6.492\n"
     ]
    },
    {
     "name": "stderr",
     "output_type": "stream",
     "text": [
      "Training TD3:  80%|████████  | 160035/200000 [07:54<02:36, 255.12it/s]"
     ]
    },
    {
     "name": "stdout",
     "output_type": "stream",
     "text": [
      "Evaluation over 10 episodes: -6.626\n"
     ]
    },
    {
     "name": "stderr",
     "output_type": "stream",
     "text": [
      "Training TD3:  83%|████████▎ | 165055/200000 [08:10<02:16, 256.38it/s]"
     ]
    },
    {
     "name": "stdout",
     "output_type": "stream",
     "text": [
      "Evaluation over 10 episodes: -6.551\n"
     ]
    },
    {
     "name": "stderr",
     "output_type": "stream",
     "text": [
      "Training TD3:  85%|████████▌ | 170044/200000 [08:26<02:03, 243.06it/s]"
     ]
    },
    {
     "name": "stdout",
     "output_type": "stream",
     "text": [
      "Evaluation over 10 episodes: -6.720\n"
     ]
    },
    {
     "name": "stderr",
     "output_type": "stream",
     "text": [
      "Training TD3:  88%|████████▊ | 175057/200000 [08:41<01:37, 256.50it/s]"
     ]
    },
    {
     "name": "stdout",
     "output_type": "stream",
     "text": [
      "Evaluation over 10 episodes: -6.593\n"
     ]
    },
    {
     "name": "stderr",
     "output_type": "stream",
     "text": [
      "Training TD3:  90%|█████████ | 180048/200000 [08:57<01:18, 255.64it/s]"
     ]
    },
    {
     "name": "stdout",
     "output_type": "stream",
     "text": [
      "Evaluation over 10 episodes: -6.879\n"
     ]
    },
    {
     "name": "stderr",
     "output_type": "stream",
     "text": [
      "Training TD3:  93%|█████████▎| 185036/200000 [09:13<01:04, 232.02it/s]"
     ]
    },
    {
     "name": "stdout",
     "output_type": "stream",
     "text": [
      "Evaluation over 10 episodes: -6.854\n"
     ]
    },
    {
     "name": "stderr",
     "output_type": "stream",
     "text": [
      "Training TD3:  95%|█████████▌| 190033/200000 [09:28<00:38, 258.88it/s]"
     ]
    },
    {
     "name": "stdout",
     "output_type": "stream",
     "text": [
      "Evaluation over 10 episodes: -6.708\n"
     ]
    },
    {
     "name": "stderr",
     "output_type": "stream",
     "text": [
      "Training TD3:  98%|█████████▊| 195038/200000 [09:44<00:19, 257.14it/s]"
     ]
    },
    {
     "name": "stdout",
     "output_type": "stream",
     "text": [
      "Evaluation over 10 episodes: -6.760\n"
     ]
    },
    {
     "name": "stderr",
     "output_type": "stream",
     "text": [
      "Training TD3: 100%|██████████| 200000/200000 [10:00<00:00, 333.26it/s]"
     ]
    },
    {
     "name": "stdout",
     "output_type": "stream",
     "text": [
      "Evaluation over 10 episodes: -6.788\n",
      "\n",
      "TD3 Training completed!\n",
      "Training time: 00:10:00\n",
      "Final evaluation reward: -6.788\n"
     ]
    },
    {
     "name": "stderr",
     "output_type": "stream",
     "text": [
      "\n"
     ]
    }
   ],
   "source": [
    "print(\"\\n\" + \"=\"*70)\n",
    "print(\"Training TD3\")\n",
    "print(\"=\"*70)\n",
    "\n",
    "# Initialize TD3 agent\n",
    "td3_policy = TD3(\n",
    "    state_dim=state_dim,\n",
    "    action_dim=action_dim,\n",
    "    max_action=max_action,\n",
    "    discount=discount,\n",
    "    tau=tau,\n",
    "    policy_noise=policy_noise * max_action,\n",
    "    noise_clip=noise_clip * max_action,\n",
    "    policy_freq=policy_freq\n",
    ")\n",
    "\n",
    "# Initialize replay buffer\n",
    "td3_replay_buffer = ReplayBuffer(state_dim, action_dim)\n",
    "\n",
    "print(\"TD3 agent initialized\")\n",
    "print(f\"Architecture: Twin critics with 256-256 hidden layers\")\n",
    "print(f\"Replay buffer capacity: 1,000,000 transitions\")\n",
    "\n",
    "# Evaluate untrained policy\n",
    "print(\"\\nEvaluating untrained TD3 policy...\")\n",
    "td3_evaluations = [eval_policy(td3_policy, env_name, seed)]\n",
    "\n",
    "# Initialize training variables\n",
    "state = env.reset(seed=seed)[0]\n",
    "done = False\n",
    "episode_reward = 0\n",
    "episode_timesteps = 0\n",
    "episode_num = 0\n",
    "\n",
    "td3_start_time = time.time()\n",
    "\n",
    "print(f\"\\nStarting TD3 training for {max_timesteps:,} timesteps...\")\n",
    "print(f\"Random exploration for first {start_timesteps:,} steps\")\n",
    "print(f\"Evaluation frequency: every {eval_freq:,} steps\\n\")\n",
    "\n",
    "# Main training loop\n",
    "for t in tqdm(range(int(max_timesteps)), desc=\"Training TD3\"):\n",
    "    \n",
    "    episode_timesteps += 1\n",
    "\n",
    "    # Select action randomly or according to policy with exploration noise\n",
    "    if t < start_timesteps:\n",
    "        action = env.action_space.sample()\n",
    "    else:\n",
    "        action = (\n",
    "            td3_policy.select_action(np.array(state))\n",
    "            + np.random.normal(0, max_action * expl_noise, size=action_dim)\n",
    "        ).clip(-max_action, max_action)\n",
    "\n",
    "    # Perform action in environment\n",
    "    next_state, reward, terminated, truncated, _ = env.step(action)\n",
    "    done = terminated or truncated\n",
    "    done_bool = float(done) if episode_timesteps < env._max_episode_steps else 0\n",
    "\n",
    "    # Store transition in replay buffer\n",
    "    td3_replay_buffer.add(state, action, next_state, reward, done_bool)\n",
    "\n",
    "    state = next_state\n",
    "    episode_reward += reward\n",
    "\n",
    "    # Train agent after collecting sufficient data\n",
    "    if t >= start_timesteps:\n",
    "        critic_loss, actor_loss = td3_policy.train(td3_replay_buffer, batch_size)\n",
    "\n",
    "    if done:\n",
    "        # Reset environment\n",
    "        state = env.reset(seed=seed)[0]\n",
    "        done = False\n",
    "        episode_reward = 0\n",
    "        episode_timesteps = 0\n",
    "        episode_num += 1\n",
    "\n",
    "    # Evaluate episode\n",
    "    if (t + 1) % eval_freq == 0:\n",
    "        eval_reward = eval_policy(td3_policy, env_name, seed)\n",
    "        td3_evaluations.append(eval_reward)\n",
    "        \n",
    "        if save_model:\n",
    "            os.makedirs(f\"./notebook_models/{env_name}\", exist_ok=True)\n",
    "            td3_policy.save(f\"./notebook_models/{env_name}/TD3_seed{seed}\")\n",
    "\n",
    "td3_end_time = time.time()\n",
    "td3_duration = td3_end_time - td3_start_time\n",
    "\n",
    "print(\"\\nTD3 Training completed!\")\n",
    "hours = int(td3_duration // 3600)\n",
    "minutes = int((td3_duration % 3600) // 60)\n",
    "seconds = int(td3_duration % 60)\n",
    "print(f\"Training time: {hours:02d}:{minutes:02d}:{seconds:02d}\")\n",
    "print(f\"Final evaluation reward: {td3_evaluations[-1]:.3f}\")"
   ]
  },
  {
   "cell_type": "markdown",
   "metadata": {},
   "source": [
    "### Save Results"
   ]
  },
  {
   "cell_type": "code",
   "execution_count": 43,
   "metadata": {},
   "outputs": [
    {
     "name": "stdout",
     "output_type": "stream",
     "text": [
      "Results saved to ./notebook_results/Reacher-v5/\n",
      "\n",
      "DDPG Final evaluation reward: -6.132\n",
      "TD3 Final evaluation reward: -6.788\n",
      "\n",
      "Improvement: -10.7%\n"
     ]
    }
   ],
   "source": [
    "# Save evaluation results\n",
    "os.makedirs(f\"./notebook_results/{env_name}\", exist_ok=True)\n",
    "\n",
    "np.save(f\"./notebook_results/{env_name}/DDPG_seed{seed}.npy\", ddpg_evaluations)\n",
    "np.save(f\"./notebook_results/{env_name}/TD3_seed{seed}.npy\", td3_evaluations)\n",
    "\n",
    "print(f\"Results saved to ./notebook_results/{env_name}/\")\n",
    "print(f\"\\nDDPG Final evaluation reward: {ddpg_evaluations[-1]:.3f}\")\n",
    "print(f\"TD3 Final evaluation reward: {td3_evaluations[-1]:.3f}\")\n",
    "print(f\"\\nImprovement: {((td3_evaluations[-1] - ddpg_evaluations[-1]) / abs(ddpg_evaluations[-1]) * 100):.1f}%\")"
   ]
  },
  {
   "cell_type": "markdown",
   "metadata": {},
   "source": [
    "### Comparative Visualization"
   ]
  },
  {
   "cell_type": "code",
   "execution_count": 44,
   "metadata": {},
   "outputs": [
    {
     "data": {
      "image/png": "[encoded data removed]",
      "text/plain": [
       "<Figure size 1400x600 with 1 Axes>"
      ]
     },
     "metadata": {},
     "output_type": "display_data"
    },
    {
     "name": "stdout",
     "output_type": "stream",
     "text": [
      "\n",
      "Comparative learning curve saved to ./notebook_results/Reacher-v5/comparison_seed0.png\n"
     ]
    }
   ],
   "source": [
    "# Plot comparative learning curves\n",
    "timesteps = np.array([i * eval_freq if i > 0 else 0 for i in range(len(ddpg_evaluations))])\n",
    "\n",
    "plt.figure(figsize=(14, 6))\n",
    "\n",
    "# Plot both algorithms\n",
    "plt.plot(timesteps, ddpg_evaluations, marker='o', linewidth=2, label='DDPG', alpha=0.8)\n",
    "plt.plot(timesteps, td3_evaluations, marker='s', linewidth=2, label='TD3', alpha=0.8)\n",
    "\n",
    "plt.xlabel('Timestep', fontsize=14)\n",
    "plt.ylabel('Average Reward', fontsize=14)\n",
    "plt.title(f'DDPG vs TD3 Learning Curves on {env_name} (Seed {seed})', fontsize=16, fontweight='bold')\n",
    "plt.legend(fontsize=12, loc='best')\n",
    "plt.grid(True, alpha=0.3)\n",
    "plt.tight_layout()\n",
    "plt.savefig(f'./notebook_results/{env_name}/comparison_seed{seed}.png', dpi=150, bbox_inches='tight')\n",
    "plt.show()\n",
    "\n",
    "print(f\"\\nComparative learning curve saved to ./notebook_results/{env_name}/comparison_seed{seed}.png\")"
   ]
  },
  {
   "cell_type": "markdown",
   "metadata": {},
   "source": [
    "### Performance Summary Table"
   ]
  },
  {
   "cell_type": "code",
   "execution_count": 45,
   "metadata": {},
   "outputs": [
    {
     "name": "stdout",
     "output_type": "stream",
     "text": [
      "\n",
      "======================================================================\n",
      "PERFORMANCE SUMMARY\n",
      "======================================================================\n",
      "Environment: Reacher-v5\n",
      "Seed: 0\n",
      "Total timesteps: 200,000\n",
      "\n",
      "----------------------------------------------------------------------\n",
      "Algorithm       Final Reward    Training Time       \n",
      "----------------------------------------------------------------------\n",
      "DDPG            -6.132          00:10:51\n",
      "TD3             -6.788          00:10:00\n",
      "----------------------------------------------------------------------\n",
      "\n",
      "TD3 Improvement over DDPG: -10.7%\n",
      "======================================================================\n"
     ]
    }
   ],
   "source": [
    "# Create summary table\n",
    "print(\"\\n\" + \"=\"*70)\n",
    "print(\"PERFORMANCE SUMMARY\")\n",
    "print(\"=\"*70)\n",
    "print(f\"Environment: {env_name}\")\n",
    "print(f\"Seed: {seed}\")\n",
    "print(f\"Total timesteps: {max_timesteps:,}\")\n",
    "print(\"\\n\" + \"-\"*70)\n",
    "print(f\"{'Algorithm':<15} {'Final Reward':<15} {'Training Time':<20}\")\n",
    "print(\"-\"*70)\n",
    "\n",
    "ddpg_h = int(ddpg_duration // 3600)\n",
    "ddpg_m = int((ddpg_duration % 3600) // 60)\n",
    "ddpg_s = int(ddpg_duration % 60)\n",
    "\n",
    "td3_h = int(td3_duration // 3600)\n",
    "td3_m = int((td3_duration % 3600) // 60)\n",
    "td3_s = int(td3_duration % 60)\n",
    "\n",
    "print(f\"{'DDPG':<15} {ddpg_evaluations[-1]:<15.3f} {ddpg_h:02d}:{ddpg_m:02d}:{ddpg_s:02d}\")\n",
    "print(f\"{'TD3':<15} {td3_evaluations[-1]:<15.3f} {td3_h:02d}:{td3_m:02d}:{td3_s:02d}\")\n",
    "print(\"-\"*70)\n",
    "\n",
    "improvement = ((td3_evaluations[-1] - ddpg_evaluations[-1]) / abs(ddpg_evaluations[-1]) * 100)\n",
    "print(f\"\\nTD3 Improvement over DDPG: {improvement:+.1f}%\")\n",
    "print(\"=\"*70)"
   ]
  },
  {
   "cell_type": "markdown",
   "metadata": {},
   "source": [
    "## Key Insights and Analysis\n",
    "\n",
    "### DDPG vs TD3: Key Differences\n",
    "\n",
    "| Feature | DDPG (from DDPG.py) | TD3 (from TD3.py) |\n",
    "|---------|---------------------|-------------------|\n",
    "| **Actor Architecture** | 400-300 | 256-256 |\n",
    "| **Critic Architecture** | Single: s→400, [h,a]→300→1 | Twin: [s,a]→256→256→1 (x2) |\n",
    "| **Actor LR** | 1e-4 | 3e-4 |\n",
    "| **Critic Optimizer** | weight_decay=1e-2 | lr=3e-4 |\n",
    "| **Tau** | 0.001 | 0.005 |\n",
    "| **Batch Size** | 64 | 256 |\n",
    "| **Policy Updates** | Every step | Delayed (every 2 steps) |\n",
    "| **Target Smoothing** | None | Clipped noise on target actions |\n",
    "| **Overestimation Bias** | Prone to overestimation | Reduced via min of two Q-values |\n",
    "\n",
    "### Why TD3 Typically Outperforms DDPG\n",
    "\n",
    "1. **Clipped Double Q-Learning**: Taking the minimum of two Q-estimates reduces overestimation bias that plagues DDPG\n",
    "2. **Delayed Policy Updates**: Waiting for the value function to converge before updating the policy reduces variance\n",
    "3. **Target Policy Smoothing**: Adding noise to target actions smooths the value estimate and prevents overfitting to narrow peaks\n",
    "\n",
    "### Environment-Specific Observations\n",
    "\n",
    "**Reacher-v5** characteristics:\n",
    "- State space: 11 dimensions (joint angles and velocities, target position)\n",
    "- Action space: 2 dimensions (continuous torques)\n",
    "- Episode length: 50 steps\n",
    "- Goal: Move robot arm to reach target position\n",
    "- Reward: Negative distance to target (higher is better, max ~0)\n",
    "\n",
    "### Architecture Details\n",
    "\n",
    "**DDPG Architecture:**\n",
    "```\n",
    "Actor:  state_dim -> 256 -> 256 -> action_dim\n",
    "Critic: (state_dim + action_dim) -> 256 -> 256 -> 1\n",
    "```\n",
    "\n",
    "**TD3 Architecture:**\n",
    "```\n",
    "Actor:   state_dim -> 256 -> 256 -> action_dim\n",
    "Critic1: (state_dim + action_dim) -> 256 -> 256 -> 1\n",
    "Critic2: (state_dim + action_dim) -> 256 -> 256 -> 1\n",
    "```"
   ]
  },
  {
   "cell_type": "markdown",
   "metadata": {},
   "source": [
    "## Summary\n",
    "\n",
    "This notebook implemented and compared two state-of-the-art continuous control algorithms using their exact implementations from source files:\n",
    "\n",
    "### DDPG (Deep Deterministic Policy Gradient) from DDPG.py\n",
    "- **Key Components**:\n",
    "  - Deterministic actor-critic framework\n",
    "  - Single Q-function for value estimation (400-300 architecture, state processed first)\n",
    "  - Actor network: 400-300 architecture\n",
    "  - Target networks with soft updates (τ = 0.001)\n",
    "  - Experience replay for off-policy learning\n",
    "  - Updates policy every step\n",
    "  - Learning rates: actor 1e-4, critic weight_decay=1e-2\n",
    "  - Batch size: 64\n",
    "\n",
    "### TD3 (Twin Delayed Deep Deterministic Policy Gradient) from TD3.py\n",
    "- **Key Components**:\n",
    "  - **Clipped Double Q-Learning**: Two Q-functions (256-256 each), use minimum for targets\n",
    "  - **Delayed Policy Updates**: Actor updated every 2 steps\n",
    "  - **Target Policy Smoothing**: Noise added to target actions\n",
    "  - Actor network: 256-256 architecture\n",
    "  - Experience replay and target networks (τ = 0.005)\n",
    "  - Learning rate: 3e-4 for both actor and critics\n",
    "  - Batch size: 256\n",
    "\n",
    "### Key Architecture Differences\n",
    "\n",
    "| Component | DDPG.py | TD3.py |\n",
    "|-----------|---------|--------|\n",
    "| Actor | 400-300 | 256-256 |\n",
    "| Critic | s→400, [h,a]→300→1 | [s,a]→256→256→1 (x2) |\n",
    "| Actor LR | 1e-4 | 3e-4 |\n",
    "| Critic Opt | weight_decay=1e-2 | lr=3e-4 |\n",
    "| Tau | 0.001 | 0.005 |\n",
    "| Batch Size | 64 | 256 |\n",
    "\n",
    "### Comparison Visualization\n",
    "\n",
    "Results are visualized using matplotlib for learning curves and performance comparisons between DDPG and TD3. The comparison script from `compare_td3_ddpg.py` can be used to generate detailed statistical comparisons across multiple seeds and environments.\n",
    "\n",
    "### References\n",
    "1. [DDPG Paper](https://arxiv.org/abs/1509.02971) - Lillicrap et al., 2015\n",
    "2. [TD3 Paper](https://arxiv.org/abs/1802.09477) - Fujimoto et al., 2018\n",
    "3. [TD3 Official Implementation](https://github.com/sfujim/TD3)\n",
    "4. [OpenAI Spinning Up in Deep RL](https://spinningup.openai.com/)\n"
   ]
  }
 ],
 "metadata": {
  "kernelspec": {
   "display_name": "td3",
   "language": "python",
   "name": "python3"
  },
  "language_info": {
   "codemirror_mode": {
    "name": "ipython",
    "version": 3
   },
   "file_extension": ".py",
   "mimetype": "text/x-python",
   "name": "python",
   "nbconvert_exporter": "python",
   "pygments_lexer": "ipython3",
   "version": "3.10.10"
  }
 },
 "nbformat": 4,
 "nbformat_minor": 4
}
